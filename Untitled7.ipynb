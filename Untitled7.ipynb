{
  "nbformat": 4,
  "nbformat_minor": 0,
  "metadata": {
    "colab": {
      "provenance": [],
      "authorship_tag": "ABX9TyOiYeHFNseBNTY5Gt2YKAnM",
      "include_colab_link": true
    },
    "kernelspec": {
      "name": "python3",
      "display_name": "Python 3"
    },
    "language_info": {
      "name": "python"
    }
  },
  "cells": [
    {
      "cell_type": "markdown",
      "metadata": {
        "id": "view-in-github",
        "colab_type": "text"
      },
      "source": [
        "<a href=\"https://colab.research.google.com/github/2303A51L05/2303A51L05-BATCH27/blob/main/Untitled7.ipynb\" target=\"_parent\"><img src=\"https://colab.research.google.com/assets/colab-badge.svg\" alt=\"Open In Colab\"/></a>"
      ]
    },
    {
      "cell_type": "code",
      "execution_count": 1,
      "metadata": {
        "colab": {
          "base_uri": "https://localhost:8080/"
        },
        "id": "tvYNV4cxe9P-",
        "outputId": "708cd5bf-8363-4476-c087-72ea98dbf16e"
      },
      "outputs": [
        {
          "output_type": "stream",
          "name": "stdout",
          "text": [
            "Sentence Tokens:\n",
            "Sentence 1: Hello there!\n",
            "Sentence 2: How are you doing today?\n",
            "Sentence 3: NLP is fascinating.\n",
            "\n",
            "Word Tokens:\n",
            "['Hello', 'there', '!', 'How', 'are', 'you', 'doing', 'today', '?', 'NLP', 'is', 'fascinating', '.']\n"
          ]
        }
      ],
      "source": [
        "import nltk\n",
        "from nltk.tokenize import word_tokenize, sent_tokenize\n",
        "nltk.download('punkt', quiet=True)\n",
        "text = \"Hello there! How are you doing today? NLP is fascinating.\"\n",
        "sentences = sent_tokenize(text)\n",
        "print(\"Sentence Tokens:\")\n",
        "for i, sentence in enumerate(sentences, 1):\n",
        "    print(f\"Sentence {i}: {sentence}\")\n",
        "words = word_tokenize(text)\n",
        "print(\"\\nWord Tokens:\")\n",
        "print(words)"
      ]
    },
    {
      "cell_type": "code",
      "source": [
        "from nltk.stem import PorterStemmer\n",
        "words = [\"running\", \"ran\", \"runs\", \"easily\", \"fairly\"]\n",
        "stemmer = PorterStemmer()\n",
        "print(\"Original words and their stems:\")\n",
        "for word in words:\n",
        "    stem = stemmer.stem(word)\n",
        "    print(f\"{word} -> {stem}\")"
      ],
      "metadata": {
        "colab": {
          "base_uri": "https://localhost:8080/"
        },
        "id": "YRmXTNmQi9u9",
        "outputId": "a6e3ef51-97f3-4950-8f58-2f215877c977"
      },
      "execution_count": 2,
      "outputs": [
        {
          "output_type": "stream",
          "name": "stdout",
          "text": [
            "Original words and their stems:\n",
            "running -> run\n",
            "ran -> ran\n",
            "runs -> run\n",
            "easily -> easili\n",
            "fairly -> fairli\n"
          ]
        }
      ]
    },
    {
      "cell_type": "code",
      "source": [
        "from sklearn.feature_extraction.text import CountVectorizer\n",
        "\n",
        "texts = [\n",
        "    \"NLP is fun and interesting.\",\n",
        "    \"NLP involves linguistics and computer science.\"\n",
        "]\n",
        "vectorizer = CountVectorizer()\n",
        "bow_matrix = vectorizer.fit_transform(texts)\n",
        "print(\"Vocabulary:\")\n",
        "print(vectorizer.get_feature_names_out())\n",
        "print(\"\\nBag of Words representation:\")\n",
        "print(bow_matrix.toarray())"
      ],
      "metadata": {
        "colab": {
          "base_uri": "https://localhost:8080/"
        },
        "id": "2IzdVJprjB8v",
        "outputId": "6ee817ec-f221-4a5b-9918-9222bb527b5e"
      },
      "execution_count": 3,
      "outputs": [
        {
          "output_type": "stream",
          "name": "stdout",
          "text": [
            "Vocabulary:\n",
            "['and' 'computer' 'fun' 'interesting' 'involves' 'is' 'linguistics' 'nlp'\n",
            " 'science']\n",
            "\n",
            "Bag of Words representation:\n",
            "[[1 0 1 1 0 1 0 1 0]\n",
            " [1 1 0 0 1 0 1 1 1]]\n"
          ]
        }
      ]
    },
    {
      "cell_type": "code",
      "source": [
        "from sklearn.feature_extraction.text import TfidfVectorizer\n",
        "sentences = [\n",
        "    \"NLP is an interesting field.\",\n",
        "    \"It involves processing natural language.\"\n",
        "]\n",
        "vectorizer = TfidfVectorizer()\n",
        "tfidf_matrix = vectorizer.fit_transform(sentences)\n",
        "\n",
        "print(\"Vocabulary:\")\n",
        "print(vectorizer.get_feature_names_out())\n",
        "\n",
        "print(\"\\nTF-IDF representation:\")\n",
        "print(tfidf_matrix.toarray())"
      ],
      "metadata": {
        "colab": {
          "base_uri": "https://localhost:8080/"
        },
        "id": "Ip1jqeaEjMVE",
        "outputId": "964b1474-0dbb-4685-e0ed-d25f91e23f2a"
      },
      "execution_count": 4,
      "outputs": [
        {
          "output_type": "stream",
          "name": "stdout",
          "text": [
            "Vocabulary:\n",
            "['an' 'field' 'interesting' 'involves' 'is' 'it' 'language' 'natural'\n",
            " 'nlp' 'processing']\n",
            "\n",
            "TF-IDF representation:\n",
            "[[0.4472136 0.4472136 0.4472136 0.        0.4472136 0.        0.\n",
            "  0.        0.4472136 0.       ]\n",
            " [0.        0.        0.        0.4472136 0.        0.4472136 0.4472136\n",
            "  0.4472136 0.        0.4472136]]\n"
          ]
        }
      ]
    }
  ]
}